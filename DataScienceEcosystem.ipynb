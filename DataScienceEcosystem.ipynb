{
 "cells": [
  {
   "cell_type": "markdown",
   "id": "54a31d49-9a4a-4040-bddd-2a9d40f7297d",
   "metadata": {},
   "source": [
    "# Data Science Tools and Ecosystem"
   ]
  },
  {
   "cell_type": "markdown",
   "id": "a83f3d20-0efa-4550-a2fa-c0bccafff7f5",
   "metadata": {},
   "source": [
    "In this notebook, Data Science Tools and Ecosystem are summarized."
   ]
  },
  {
   "cell_type": "markdown",
   "id": "00fd8897-daee-45f6-a512-19e2425a089d",
   "metadata": {},
   "source": [
    "**Objectives:**\n",
    "List popular languages for Data Science\n",
    "<ul>\n",
    "<li>Python</li>\n",
    "<li>R</li>\n",
    "<li>SQL</li>\n",
    "<li>Julia</li>\n",
    "<li>Java</li>\n",
    "</ul>"
   ]
  },
  {
   "cell_type": "markdown",
   "id": "73d9ada1-e55c-4832-8d98-ea9534cf5c48",
   "metadata": {},
   "source": [
    "Some of the popular languages that Data Scientists use are:\n",
    "1. Python\n",
    "2. R\n",
    "3. SQL"
   ]
  },
  {
   "cell_type": "markdown",
   "id": "46c1d990-587d-45b4-b73f-c2069e31a137",
   "metadata": {},
   "source": [
    "Some of the commonly used libraries used by Data Scientists include:\n",
    "1. pandas\n",
    "2. scikit-learn\n",
    "3. numpy"
   ]
  },
  {
   "cell_type": "markdown",
   "id": "69dd5739-7800-493c-be91-8ac4228f2063",
   "metadata": {},
   "source": [
    "| Data Science Tools |\n",
    "| --- |\n",
    "| Apache Spark |\n",
    "| Julia |\n",
    "| NumPy |"
   ]
  },
  {
   "cell_type": "markdown",
   "id": "3a8a1c28-4355-4550-a084-f4e41ccaad0b",
   "metadata": {},
   "source": [
    "### Below are a few examples of evaluating arithmetic expressions in Python"
   ]
  },
  {
   "cell_type": "code",
   "execution_count": 2,
   "id": "72ee9d02-7524-4581-9a33-37caad5ec861",
   "metadata": {
    "tags": []
   },
   "outputs": [
    {
     "data": {
      "text/plain": [
       "17"
      ]
     },
     "execution_count": 2,
     "metadata": {},
     "output_type": "execute_result"
    }
   ],
   "source": [
    "# This a simple arithmetic expression to mutiply then add integers\n",
    "(3*4)+5"
   ]
  },
  {
   "cell_type": "code",
   "execution_count": 3,
   "id": "565eb98d-372f-4e40-b4c5-62b493ecc16e",
   "metadata": {
    "tags": []
   },
   "outputs": [
    {
     "data": {
      "text/plain": [
       "3.3333333333333335"
      ]
     },
     "execution_count": 3,
     "metadata": {},
     "output_type": "execute_result"
    }
   ],
   "source": [
    "# This will convert 200 minutes to hours by diving by 60\n",
    "200/60"
   ]
  },
  {
   "cell_type": "markdown",
   "id": "fbac22a9-9eb6-45be-82cc-2fbc95cff848",
   "metadata": {},
   "source": [
    "## Author\n",
    "Eryk"
   ]
  }
 ],
 "metadata": {
  "kernelspec": {
   "display_name": "Python",
   "language": "python",
   "name": "conda-env-python-py"
  },
  "language_info": {
   "codemirror_mode": {
    "name": "ipython",
    "version": 3
   },
   "file_extension": ".py",
   "mimetype": "text/x-python",
   "name": "python",
   "nbconvert_exporter": "python",
   "pygments_lexer": "ipython3",
   "version": "3.7.12"
  }
 },
 "nbformat": 4,
 "nbformat_minor": 5
}
